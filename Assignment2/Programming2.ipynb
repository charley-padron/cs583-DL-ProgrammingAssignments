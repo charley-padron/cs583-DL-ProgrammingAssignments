{
 "cells": [
  {
   "cell_type": "markdown",
   "metadata": {},
   "source": [
    "# Programming Assignment: Build a CNN for image recognition.\n",
    "\n",
    "### Name: Charley Padron\n"
   ]
  },
  {
   "cell_type": "markdown",
   "metadata": {},
   "source": [
    "## 0. You will do the following:\n",
    "\n",
    "1. Read, complete, and run the code.\n",
    "\n",
    "2. **Make substantial improvements** to maximize the accuracy.\n",
    "    \n",
    "3. Convert the .IPYNB file to .HTML file.\n",
    "\n",
    "    * The HTML file must contain the code and the output after execution.\n",
    "    \n",
    "    * Missing **the output after execution** will not be graded.\n",
    "\n",
    "\n",
    "4. Upload the .HTML file to your Google Drive, Dropbox, or Github repo. (If you submit the file to Google Drive or Dropbox, you must make the file \"open-access\". The delay caused by \"deny of access\" may result in late penalty.)\n",
    "\n",
    "4. On Canvas, submit the Google Drive/Dropbox/Github link to the HTML file.\n",
    "\n",
    "\n",
    "## Requirements:\n",
    "\n",
    "1. You can use whatever CNN architecture, including VGG, Inception, and ResNet. However, you must build the networks layer by layer. You must NOT import the archetectures from ```keras.applications```.\n",
    "\n",
    "2. Make sure ```BatchNormalization``` is between a ```Conv```/```Dense``` layer and an ```activation``` layer.\n",
    "\n",
    "3. If you want to regularize a ```Conv```/```Dense``` layer, you should place a ```Dropout``` layer **before** the ```Conv```/```Dense``` layer.\n",
    "\n",
    "4. An accuracy above 70% is considered reasonable. An accuracy above 80% is considered good. Without data augmentation, achieving 80% accuracy is difficult.\n",
    "\n",
    "\n",
    "## Google Colab\n",
    "\n",
    "- If you do not have GPU, the training of a CNN can be slow. Google Colab is a good option.\n",
    "\n",
    "- Keep in mind that you must download it as an IPYNB file and then use IPython Notebook to convert it to HTML.\n",
    "\n",
    "- Also keep in mind that the IPYNB and HTML files must contain the outputs. (Otherwise, the instructor will not be able to know the correctness and performance.) Do the followings to keep the outputs.\n",
    "\n",
    "- In Colab, go to ```Runtime``` --> ```Change runtime type``` --> Do NOT check ```Omit code cell output when saving this notebook```. In this way, the downloaded IPYNB file contains the outputs."
   ]
  },
  {
   "cell_type": "markdown",
   "metadata": {},
   "source": [
    "## 1. Data preparation"
   ]
  },
  {
   "cell_type": "markdown",
   "metadata": {},
   "source": [
    "### 1.1. Load data\n"
   ]
  },
  {
   "cell_type": "code",
   "execution_count": 1,
   "metadata": {},
   "outputs": [
    {
     "name": "stdout",
     "output_type": "stream",
     "text": [
      "shape of x_train: (50000, 32, 32, 3)\n",
      "shape of y_train: (50000, 1)\n",
      "shape of x_test: (10000, 32, 32, 3)\n",
      "shape of y_test: (10000, 1)\n",
      "number of classes: 10\n"
     ]
    }
   ],
   "source": [
    "from keras.datasets import cifar10\n",
    "import numpy\n",
    "\n",
    "(x_train, y_train), (x_test, y_test) = cifar10.load_data()\n",
    "\n",
    "print('shape of x_train: ' + str(x_train.shape))\n",
    "print('shape of y_train: ' + str(y_train.shape))\n",
    "print('shape of x_test: ' + str(x_test.shape))\n",
    "print('shape of y_test: ' + str(y_test.shape))\n",
    "print('number of classes: ' + str(numpy.max(y_train) - numpy.min(y_train) + 1))"
   ]
  },
  {
   "cell_type": "markdown",
   "metadata": {},
   "source": [
    "### 1.2. One-hot encode the labels\n",
    "\n",
    "In the input, a label is a scalar in $\\{0, 1, \\cdots , 9\\}$. One-hot encode transform such a scalar to a $10$-dim vector. E.g., a scalar ```y_train[j]=3``` is transformed to the vector ```y_train_vec[j]=[0, 0, 0, 1, 0, 0, 0, 0, 0, 0]```.\n",
    "\n",
    "1. Define a function ```to_one_hot``` that transforms an $n\\times 1$ array to a $n\\times 10$ matrix.\n",
    "\n",
    "2. Apply the function to ```y_train``` and ```y_test```."
   ]
  },
  {
   "cell_type": "code",
   "execution_count": 2,
   "metadata": {},
   "outputs": [
    {
     "name": "stdout",
     "output_type": "stream",
     "text": [
      "Shape of y_train_vec: (50000, 10)\n",
      "Shape of y_test_vec: (10000, 10)\n",
      "[6]\n",
      "[0. 0. 0. 0. 0. 0. 1. 0. 0. 0.]\n"
     ]
    }
   ],
   "source": [
    "def to_one_hot(y, num_class=10):\n",
    "    results = numpy.zeros((len(y), num_class))\n",
    "    for i, label in enumerate(y):\n",
    "        results[i, label] = 1\n",
    "    return results\n",
    "\n",
    "y_train_vec = to_one_hot(y_train)\n",
    "y_test_vec = to_one_hot(y_test)\n",
    "\n",
    "print('Shape of y_train_vec: ' + str(y_train_vec.shape))\n",
    "print('Shape of y_test_vec: ' + str(y_test_vec.shape))\n",
    "\n",
    "print(y_train[0])\n",
    "print(y_train_vec[0])"
   ]
  },
  {
   "cell_type": "markdown",
   "metadata": {},
   "source": [
    "#### Remark: the outputs should be\n",
    "* Shape of y_train_vec: (50000, 10)\n",
    "* Shape of y_test_vec: (10000, 10)\n",
    "* [6]\n",
    "* [0. 0. 0. 0. 0. 0. 1. 0. 0. 0.]"
   ]
  },
  {
   "cell_type": "markdown",
   "metadata": {},
   "source": [
    "### 1.3. Randomly partition the training set to training and validation sets\n",
    "\n",
    "Randomly partition the 50K training samples to 2 sets:\n",
    "* a training set containing 40K samples\n",
    "* a validation set containing 10K samples\n"
   ]
  },
  {
   "cell_type": "code",
   "execution_count": 3,
   "metadata": {},
   "outputs": [
    {
     "name": "stdout",
     "output_type": "stream",
     "text": [
      "Shape of x_tr: (40000, 32, 32, 3)\n",
      "Shape of y_tr: (40000, 10)\n",
      "Shape of x_val: (10000, 32, 32, 3)\n",
      "Shape of y_val: (10000, 10)\n"
     ]
    }
   ],
   "source": [
    "rand_indices = numpy.random.permutation(50000)\n",
    "train_indices = rand_indices[0:40000]\n",
    "valid_indices = rand_indices[40000:50000]\n",
    "\n",
    "x_val = x_train[valid_indices, :]\n",
    "y_val = y_train_vec[valid_indices, :]\n",
    "\n",
    "x_tr = x_train[train_indices, :]\n",
    "y_tr = y_train_vec[train_indices, :]\n",
    "\n",
    "print('Shape of x_tr: ' + str(x_tr.shape))\n",
    "print('Shape of y_tr: ' + str(y_tr.shape))\n",
    "print('Shape of x_val: ' + str(x_val.shape))\n",
    "print('Shape of y_val: ' + str(y_val.shape))"
   ]
  },
  {
   "cell_type": "markdown",
   "metadata": {},
   "source": [
    "## 2. Build a CNN and tune its hyper-parameters\n",
    "\n",
    "1. Build a convolutional neural network model\n",
    "2. Use the validation data to tune the hyper-parameters (e.g., network structure, and optimization algorithm)\n",
    "    * Do NOT use test data for hyper-parameter tuning!!!\n",
    "3. Try to achieve a validation accuracy as high as possible."
   ]
  },
  {
   "cell_type": "markdown",
   "metadata": {},
   "source": [
    "### Remark: \n",
    "\n",
    "The following CNN is just an example. You are supposed to make **substantial improvements** such as:\n",
    "* Add more layers.\n",
    "* Use regularizations, e.g., dropout.\n",
    "* Use batch normalization."
   ]
  },
  {
   "cell_type": "code",
   "execution_count": 4,
   "metadata": {},
   "outputs": [
    {
     "name": "stdout",
     "output_type": "stream",
     "text": [
      "Model: \"sequential\"\n",
      "_________________________________________________________________\n",
      " Layer (type)                Output Shape              Param #   \n",
      "=================================================================\n",
      " conv2d (Conv2D)             (None, 32, 32, 32)        896       \n",
      "                                                                 \n",
      " batch_normalization (BatchN  (None, 32, 32, 32)       128       \n",
      " ormalization)                                                   \n",
      "                                                                 \n",
      " activation (Activation)     (None, 32, 32, 32)        0         \n",
      "                                                                 \n",
      " conv2d_1 (Conv2D)           (None, 32, 32, 32)        9248      \n",
      "                                                                 \n",
      " batch_normalization_1 (Batc  (None, 32, 32, 32)       128       \n",
      " hNormalization)                                                 \n",
      "                                                                 \n",
      " activation_1 (Activation)   (None, 32, 32, 32)        0         \n",
      "                                                                 \n",
      " max_pooling2d (MaxPooling2D  (None, 16, 16, 32)       0         \n",
      " )                                                               \n",
      "                                                                 \n",
      " dropout (Dropout)           (None, 16, 16, 32)        0         \n",
      "                                                                 \n",
      " conv2d_2 (Conv2D)           (None, 16, 16, 64)        18496     \n",
      "                                                                 \n",
      " batch_normalization_2 (Batc  (None, 16, 16, 64)       256       \n",
      " hNormalization)                                                 \n",
      "                                                                 \n",
      " activation_2 (Activation)   (None, 16, 16, 64)        0         \n",
      "                                                                 \n",
      " conv2d_3 (Conv2D)           (None, 16, 16, 64)        36928     \n",
      "                                                                 \n",
      " batch_normalization_3 (Batc  (None, 16, 16, 64)       256       \n",
      " hNormalization)                                                 \n",
      "                                                                 \n",
      " activation_3 (Activation)   (None, 16, 16, 64)        0         \n",
      "                                                                 \n",
      " max_pooling2d_1 (MaxPooling  (None, 8, 8, 64)         0         \n",
      " 2D)                                                             \n",
      "                                                                 \n",
      " dropout_1 (Dropout)         (None, 8, 8, 64)          0         \n",
      "                                                                 \n",
      " conv2d_4 (Conv2D)           (None, 8, 8, 128)         73856     \n",
      "                                                                 \n",
      " batch_normalization_4 (Batc  (None, 8, 8, 128)        512       \n",
      " hNormalization)                                                 \n",
      "                                                                 \n",
      " activation_4 (Activation)   (None, 8, 8, 128)         0         \n",
      "                                                                 \n",
      " conv2d_5 (Conv2D)           (None, 8, 8, 128)         147584    \n",
      "                                                                 \n",
      " batch_normalization_5 (Batc  (None, 8, 8, 128)        512       \n",
      " hNormalization)                                                 \n",
      "                                                                 \n",
      " activation_5 (Activation)   (None, 8, 8, 128)         0         \n",
      "                                                                 \n",
      " max_pooling2d_2 (MaxPooling  (None, 4, 4, 128)        0         \n",
      " 2D)                                                             \n",
      "                                                                 \n",
      " conv2d_6 (Conv2D)           (None, 4, 4, 128)         147584    \n",
      "                                                                 \n",
      " conv2d_7 (Conv2D)           (None, 4, 4, 256)         295168    \n",
      "                                                                 \n",
      " batch_normalization_6 (Batc  (None, 4, 4, 256)        1024      \n",
      " hNormalization)                                                 \n",
      "                                                                 \n",
      " activation_6 (Activation)   (None, 4, 4, 256)         0         \n",
      "                                                                 \n",
      " max_pooling2d_3 (MaxPooling  (None, 2, 2, 256)        0         \n",
      " 2D)                                                             \n",
      "                                                                 \n",
      " conv2d_8 (Conv2D)           (None, 2, 2, 256)         590080    \n",
      "                                                                 \n",
      " conv2d_9 (Conv2D)           (None, 2, 2, 256)         590080    \n",
      "                                                                 \n",
      " batch_normalization_7 (Batc  (None, 2, 2, 256)        1024      \n",
      " hNormalization)                                                 \n",
      "                                                                 \n",
      " activation_7 (Activation)   (None, 2, 2, 256)         0         \n",
      "                                                                 \n",
      " max_pooling2d_4 (MaxPooling  (None, 1, 1, 256)        0         \n",
      " 2D)                                                             \n",
      "                                                                 \n",
      " flatten (Flatten)           (None, 256)               0         \n",
      "                                                                 \n",
      " dropout_2 (Dropout)         (None, 256)               0         \n",
      "                                                                 \n",
      " dense (Dense)               (None, 512)               131584    \n",
      "                                                                 \n",
      " batch_normalization_8 (Batc  (None, 512)              2048      \n",
      " hNormalization)                                                 \n",
      "                                                                 \n",
      " activation_8 (Activation)   (None, 512)               0         \n",
      "                                                                 \n",
      " dense_1 (Dense)             (None, 10)                5130      \n",
      "                                                                 \n",
      "=================================================================\n",
      "Total params: 2,052,522\n",
      "Trainable params: 2,049,578\n",
      "Non-trainable params: 2,944\n",
      "_________________________________________________________________\n"
     ]
    }
   ],
   "source": [
    "from keras.layers import Conv2D, MaxPooling2D, Flatten, Dense, BatchNormalization, Dropout, Activation\n",
    "from keras.models import Sequential\n",
    "\n",
    "model = Sequential()\n",
    "\n",
    "model.add(Conv2D(32, (3, 3), padding='same', input_shape=(32, 32, 3)))\n",
    "model.add(BatchNormalization())\n",
    "model.add(Activation('relu'))\n",
    "model.add(Conv2D(32, (3, 3), padding='same'))\n",
    "model.add(BatchNormalization())\n",
    "model.add(Activation('relu'))\n",
    "model.add(MaxPooling2D((2, 2)))\n",
    "\n",
    "#model.add(Dropout(0.5))\n",
    "#model.add(Dropout(0.25))\n",
    "model.add(Dropout(0.12))\n",
    "\n",
    "model.add(Conv2D(64, (3, 3), padding='same'))\n",
    "model.add(BatchNormalization())\n",
    "model.add(Activation('relu'))\n",
    "model.add(Conv2D(64, (3, 3), padding='same'))\n",
    "model.add(BatchNormalization())\n",
    "model.add(Activation('relu'))\n",
    "model.add(MaxPooling2D((2, 2)))\n",
    "\n",
    "\n",
    "#model.add(Dropout(0.5))\n",
    "model.add(Dropout(0.25))\n",
    "\n",
    "model.add(Conv2D(128, (3, 3), padding='same'))\n",
    "model.add(BatchNormalization())\n",
    "model.add(Activation('relu'))\n",
    "model.add(Conv2D(128, (3, 3), padding='same'))\n",
    "model.add(BatchNormalization())\n",
    "model.add(Activation('relu'))\n",
    "model.add(MaxPooling2D((2, 2)))\n",
    "\n",
    "model.add(Conv2D(128, (3, 3), activation='relu', padding='same'))\n",
    "#model.add(BatchNormalization())\n",
    "#model.add(Activation('relu'))\n",
    "model.add(Conv2D(256, (3, 3), padding='same'))\n",
    "model.add(BatchNormalization())\n",
    "model.add(Activation('relu'))\n",
    "model.add(MaxPooling2D((2, 2)))\n",
    "\n",
    "#model.add(Dropout(0.5))\n",
    "#model.add(Dropout(0.25))\n",
    "\n",
    "model.add(Conv2D(256, (3, 3), activation='relu', padding='same'))\n",
    "#model.add(BatchNormalization())\n",
    "#model.add(Activation('relu'))\n",
    "model.add(Conv2D(256, (3, 3), padding='same'))\n",
    "model.add(BatchNormalization())\n",
    "model.add(Activation('relu'))\n",
    "model.add(MaxPooling2D((2, 2)))\n",
    "\n",
    "model.add(Flatten())\n",
    "\n",
    "model.add(Dropout(0.5))\n",
    "model.add(Dense(512))\n",
    "model.add(BatchNormalization())\n",
    "model.add(Activation('relu'))\n",
    "model.add(Dense(10, activation='softmax'))\n",
    "\n",
    "model.summary()"
   ]
  },
  {
   "cell_type": "code",
   "execution_count": 5,
   "metadata": {},
   "outputs": [],
   "source": [
    "from tensorflow import keras\n",
    "from keras import optimizers\n",
    "from keras.preprocessing.image import ImageDataGenerator\n",
    "\n",
    "#learning_rate = 1E-5 # to be tuned!\n",
    "#learning_rate = 1E-4 # to be tuned!\n",
    "learning_rate = 1E-3 # to be tuned!\n",
    "#learning_rate = 1E-2 # to be tuned!\n",
    "\n",
    "train_datagen = ImageDataGenerator(\n",
    "rescale=1./255,\n",
    "#rotation_range=40,\n",
    "#rotation_range=20,\n",
    "rotation_range=10,\n",
    "width_shift_range=0.2,\n",
    "height_shift_range=0.2,\n",
    "shear_range=0.2,\n",
    "zoom_range=0.2,\n",
    "horizontal_flip=True\n",
    ")\n",
    "\n",
    "val_datagen = ImageDataGenerator(rescale=1./255)\n",
    "\n",
    "train_datagen.fit(x_tr)\n",
    "\n",
    "b=32\n",
    "\n",
    "train_generator = train_datagen.flow(x_tr, y_tr, batch_size=b)\n",
    "val_generator = val_datagen.flow(x_val, y_val, batch_size=b)\n",
    "\n",
    "model.compile(loss='categorical_crossentropy',\n",
    "              optimizer=keras.optimizers.RMSprop(learning_rate=learning_rate),\n",
    "              metrics=['acc'])"
   ]
  },
  {
   "cell_type": "code",
   "execution_count": 6,
   "metadata": {},
   "outputs": [
    {
     "name": "stdout",
     "output_type": "stream",
     "text": [
      "Epoch 1/20\n",
      "1250/1250 [==============================] - 142s 111ms/step - loss: 1.8654 - acc: 0.3007 - val_loss: 1.7841 - val_acc: 0.3648\n",
      "Epoch 2/20\n",
      "1250/1250 [==============================] - 138s 110ms/step - loss: 1.5067 - acc: 0.4436 - val_loss: 1.6010 - val_acc: 0.4776\n",
      "Epoch 3/20\n",
      "1250/1250 [==============================] - 133s 107ms/step - loss: 1.3419 - acc: 0.5137 - val_loss: 1.5867 - val_acc: 0.4920\n",
      "Epoch 4/20\n",
      "1250/1250 [==============================] - 131s 105ms/step - loss: 1.2200 - acc: 0.5684 - val_loss: 1.1163 - val_acc: 0.6102\n",
      "Epoch 5/20\n",
      "1250/1250 [==============================] - 141s 113ms/step - loss: 1.1347 - acc: 0.6006 - val_loss: 1.6555 - val_acc: 0.5266\n",
      "Epoch 6/20\n",
      "1250/1250 [==============================] - 136s 109ms/step - loss: 1.0604 - acc: 0.6331 - val_loss: 1.1079 - val_acc: 0.6352\n",
      "Epoch 7/20\n",
      "1250/1250 [==============================] - 138s 110ms/step - loss: 1.0108 - acc: 0.6520 - val_loss: 1.1495 - val_acc: 0.6188\n",
      "Epoch 8/20\n",
      "1250/1250 [==============================] - 138s 110ms/step - loss: 0.9560 - acc: 0.6703 - val_loss: 0.7924 - val_acc: 0.7293\n",
      "Epoch 9/20\n",
      "1250/1250 [==============================] - 129s 103ms/step - loss: 0.9137 - acc: 0.6879 - val_loss: 0.8162 - val_acc: 0.7218\n",
      "Epoch 10/20\n",
      "1250/1250 [==============================] - 129s 103ms/step - loss: 0.8787 - acc: 0.7000 - val_loss: 0.9428 - val_acc: 0.7158\n",
      "Epoch 11/20\n",
      "1250/1250 [==============================] - 130s 104ms/step - loss: 0.8507 - acc: 0.7141 - val_loss: 1.0800 - val_acc: 0.6673\n",
      "Epoch 12/20\n",
      "1250/1250 [==============================] - 139s 111ms/step - loss: 0.8270 - acc: 0.7235 - val_loss: 1.2174 - val_acc: 0.6672\n",
      "Epoch 13/20\n",
      "1250/1250 [==============================] - 132s 106ms/step - loss: 0.8049 - acc: 0.7323 - val_loss: 0.7063 - val_acc: 0.7758\n",
      "Epoch 14/20\n",
      "1250/1250 [==============================] - 138s 110ms/step - loss: 0.7884 - acc: 0.7367 - val_loss: 0.6896 - val_acc: 0.7755\n",
      "Epoch 15/20\n",
      "1250/1250 [==============================] - 140s 112ms/step - loss: 0.7706 - acc: 0.7441 - val_loss: 0.9539 - val_acc: 0.6962\n",
      "Epoch 16/20\n",
      "1250/1250 [==============================] - 138s 110ms/step - loss: 0.7493 - acc: 0.7501 - val_loss: 0.7106 - val_acc: 0.7637\n",
      "Epoch 17/20\n",
      "1250/1250 [==============================] - 142s 113ms/step - loss: 0.7297 - acc: 0.7582 - val_loss: 0.8304 - val_acc: 0.7341\n",
      "Epoch 18/20\n",
      "1250/1250 [==============================] - 141s 112ms/step - loss: 0.7173 - acc: 0.7628 - val_loss: 0.6072 - val_acc: 0.7953\n",
      "Epoch 19/20\n",
      "1250/1250 [==============================] - 142s 114ms/step - loss: 0.7045 - acc: 0.7687 - val_loss: 0.6565 - val_acc: 0.7990\n",
      "Epoch 20/20\n",
      "1250/1250 [==============================] - 142s 114ms/step - loss: 0.7029 - acc: 0.7684 - val_loss: 0.8207 - val_acc: 0.7341\n"
     ]
    }
   ],
   "source": [
    "#history = model.fit(x_tr, y_tr, batch_size=32, epochs=10, validation_data=(x_val, y_val))\n",
    "history = model.fit(train_generator, epochs=20, validation_data=val_generator)"
   ]
  },
  {
   "cell_type": "code",
   "execution_count": 8,
   "metadata": {},
   "outputs": [],
   "source": [
    "from keras.models import load_model\n",
    "\n",
    "#model.save('model.h5')\n",
    "model.save_weights('model')\n",
    "#model.load_weights('model')"
   ]
  },
  {
   "cell_type": "code",
   "execution_count": 9,
   "metadata": {},
   "outputs": [
    {
     "data": {
      "image/png": "[encoded data removed]",
      "text/plain": [
       "<Figure size 432x288 with 1 Axes>"
      ]
     },
     "metadata": {
      "needs_background": "light"
     },
     "output_type": "display_data"
    }
   ],
   "source": [
    "import matplotlib.pyplot as plt\n",
    "%matplotlib inline\n",
    "\n",
    "acc = history.history['acc']\n",
    "val_acc = history.history['val_acc']\n",
    "\n",
    "epochs = range(len(acc))\n",
    "\n",
    "plt.plot(epochs, acc, 'bo', label='Training acc')\n",
    "plt.plot(epochs, val_acc, 'r', label='Validation acc')\n",
    "plt.xlabel('Epochs')\n",
    "plt.ylabel('Accuracy')\n",
    "plt.legend()\n",
    "plt.show()"
   ]
  },
  {
   "cell_type": "markdown",
   "metadata": {},
   "source": [
    "## 3. Train (again) and evaluate the model\n",
    "\n",
    "- To this end, you have found the \"best\" hyper-parameters. \n",
    "- Now, fix the hyper-parameters and train the network on the entire training set (all the 50K training samples)\n",
    "- Evaluate your model on the test set."
   ]
  },
  {
   "cell_type": "markdown",
   "metadata": {},
   "source": [
    "### 3.1. Train the model on the entire training set\n",
    "\n",
    "Why? Previously, you used 40K samples for training; you wasted 10K samples for the sake of hyper-parameter tuning. Now you already know the hyper-parameters, so why not using all the 50K samples for training?"
   ]
  },
  {
   "cell_type": "code",
   "execution_count": 17,
   "metadata": {},
   "outputs": [],
   "source": [
    "#learning_rate = 1E-5 # to be tuned!\n",
    "#learning_rate = 1E-4 # to be tuned!\n",
    "learning_rate = 1E-3 # to be tuned!\n",
    "#learning_rate = 1E-2 # to be tuned!\n",
    "\n",
    "train_datagen = ImageDataGenerator(\n",
    "rescale=1./255,\n",
    "rotation_range=10,\n",
    "width_shift_range=0.2,\n",
    "height_shift_range=0.2,\n",
    "shear_range=0.2,\n",
    "zoom_range=0.2,\n",
    "horizontal_flip=True\n",
    ")\n",
    "\n",
    "train_datagen.fit(x_train)\n",
    "\n",
    "b=32\n",
    "\n",
    "train_generator = train_datagen.flow(x_train, y_train_vec, batch_size=b)\n",
    "\n",
    "test_datagen = ImageDataGenerator(rescale = 1./255)\n",
    "test_generator = test_datagen.flow(x_test, y_test_vec)\n",
    "\n",
    "#model = load_model('model.h5')\n",
    "model.load_weights('model')\n",
    "\n",
    "model.compile(loss='categorical_crossentropy',\n",
    "              optimizer=keras.optimizers.RMSprop(learning_rate=learning_rate),\n",
    "              metrics=['acc'])"
   ]
  },
  {
   "cell_type": "code",
   "execution_count": 11,
   "metadata": {},
   "outputs": [
    {
     "name": "stdout",
     "output_type": "stream",
     "text": [
      "Epoch 1/20\n",
      "1563/1563 [==============================] - 161s 102ms/step - loss: 0.7012 - acc: 0.7672\n",
      "Epoch 2/20\n",
      "1563/1563 [==============================] - 153s 98ms/step - loss: 0.6811 - acc: 0.7771\n",
      "Epoch 3/20\n",
      "1563/1563 [==============================] - 159s 102ms/step - loss: 0.6734 - acc: 0.7802\n",
      "Epoch 4/20\n",
      "1563/1563 [==============================] - 155s 99ms/step - loss: 0.6656 - acc: 0.7816\n",
      "Epoch 5/20\n",
      "1563/1563 [==============================] - 156s 100ms/step - loss: 0.6509 - acc: 0.7867\n",
      "Epoch 6/20\n",
      "1563/1563 [==============================] - 183s 117ms/step - loss: 0.6381 - acc: 0.7911\n",
      "Epoch 7/20\n",
      "1563/1563 [==============================] - 142s 91ms/step - loss: 0.6353 - acc: 0.7915\n",
      "Epoch 8/20\n",
      "1563/1563 [==============================] - 139s 89ms/step - loss: 0.6213 - acc: 0.7971\n",
      "Epoch 9/20\n",
      "1563/1563 [==============================] - 137s 88ms/step - loss: 0.6145 - acc: 0.7983\n",
      "Epoch 10/20\n",
      "1563/1563 [==============================] - 140s 89ms/step - loss: 0.6160 - acc: 0.8008\n",
      "Epoch 11/20\n",
      "1563/1563 [==============================] - 144s 92ms/step - loss: 0.5986 - acc: 0.8053\n",
      "Epoch 12/20\n",
      "1563/1563 [==============================] - 146s 93ms/step - loss: 0.5938 - acc: 0.8058\n",
      "Epoch 13/20\n",
      "1563/1563 [==============================] - 146s 93ms/step - loss: 0.5908 - acc: 0.8080\n",
      "Epoch 14/20\n",
      "1563/1563 [==============================] - 142s 91ms/step - loss: 0.5816 - acc: 0.8099\n",
      "Epoch 15/20\n",
      "1563/1563 [==============================] - 146s 93ms/step - loss: 0.5784 - acc: 0.8127\n",
      "Epoch 16/20\n",
      "1563/1563 [==============================] - 147s 94ms/step - loss: 0.5756 - acc: 0.8128\n",
      "Epoch 17/20\n",
      "1563/1563 [==============================] - 146s 93ms/step - loss: 0.5685 - acc: 0.8147\n",
      "Epoch 18/20\n",
      "1563/1563 [==============================] - 137s 88ms/step - loss: 0.5720 - acc: 0.8156\n",
      "Epoch 19/20\n",
      "1563/1563 [==============================] - 139s 89ms/step - loss: 0.5628 - acc: 0.8158\n",
      "Epoch 20/20\n",
      "1563/1563 [==============================] - 139s 89ms/step - loss: 0.5548 - acc: 0.8190\n"
     ]
    }
   ],
   "source": [
    "#history = model.fit(x_train, y_train_vec, batch_size=32, epochs=20)\n",
    "history = model.fit(train_generator, epochs=20)"
   ]
  },
  {
   "cell_type": "code",
   "execution_count": 12,
   "metadata": {},
   "outputs": [
    {
     "name": "stdout",
     "output_type": "stream",
     "text": [
      "Epoch 1/10\n",
      "1563/1563 [==============================] - 137s 88ms/step - loss: 0.5556 - acc: 0.8190\n",
      "Epoch 2/10\n",
      "1563/1563 [==============================] - 136s 87ms/step - loss: 0.5488 - acc: 0.8208\n",
      "Epoch 3/10\n",
      "1563/1563 [==============================] - 135s 86ms/step - loss: 0.5380 - acc: 0.8248\n",
      "Epoch 4/10\n",
      "1563/1563 [==============================] - 133s 85ms/step - loss: 0.5376 - acc: 0.8255\n",
      "Epoch 5/10\n",
      "1563/1563 [==============================] - 132s 84ms/step - loss: 0.5368 - acc: 0.8267\n",
      "Epoch 6/10\n",
      "1563/1563 [==============================] - 137s 88ms/step - loss: 0.5389 - acc: 0.8234\n",
      "Epoch 7/10\n",
      "1563/1563 [==============================] - 139s 89ms/step - loss: 0.5287 - acc: 0.8273\n",
      "Epoch 8/10\n",
      "1563/1563 [==============================] - 138s 88ms/step - loss: 0.5393 - acc: 0.8264\n",
      "Epoch 9/10\n",
      "1563/1563 [==============================] - 137s 87ms/step - loss: 0.5329 - acc: 0.8292\n",
      "Epoch 10/10\n",
      "1563/1563 [==============================] - 137s 88ms/step - loss: 0.5227 - acc: 0.8306\n"
     ]
    }
   ],
   "source": [
    "model.save_weights('model')\n",
    "model.load_weights('model')\n",
    "history = model.fit(train_generator, epochs=10)"
   ]
  },
  {
   "cell_type": "code",
   "execution_count": 16,
   "metadata": {},
   "outputs": [
    {
     "name": "stdout",
     "output_type": "stream",
     "text": [
      "Epoch 1/5\n",
      "1563/1563 [==============================] - 137s 88ms/step - loss: 0.5125 - acc: 0.8353\n",
      "Epoch 2/5\n",
      "1563/1563 [==============================] - 146s 93ms/step - loss: 0.5094 - acc: 0.8365\n",
      "Epoch 3/5\n",
      "1563/1563 [==============================] - 140s 90ms/step - loss: 0.5083 - acc: 0.8363\n",
      "Epoch 4/5\n",
      "1563/1563 [==============================] - 138s 89ms/step - loss: 0.5070 - acc: 0.8379\n",
      "Epoch 5/5\n",
      "1563/1563 [==============================] - 137s 88ms/step - loss: 0.5084 - acc: 0.8380\n"
     ]
    }
   ],
   "source": [
    "model.save_weights('model')\n",
    "model.load_weights('model')\n",
    "history = model.fit(train_generator, epochs=5)"
   ]
  },
  {
   "cell_type": "code",
   "execution_count": 18,
   "metadata": {},
   "outputs": [
    {
     "data": {
      "text/plain": [
       "<tensorflow.python.training.tracking.util.CheckpointLoadStatus at 0x1e6a96d4550>"
      ]
     },
     "execution_count": 18,
     "metadata": {},
     "output_type": "execute_result"
    }
   ],
   "source": [
    "model.save_weights('model')\n",
    "model.load_weights('model')"
   ]
  },
  {
   "cell_type": "markdown",
   "metadata": {},
   "source": [
    "### 3.2. Evaluate the model on the test set\n",
    "\n",
    "Do NOT used the test set until now. Make sure that your model parameters and hyper-parameters are independent of the test set."
   ]
  },
  {
   "cell_type": "code",
   "execution_count": 19,
   "metadata": {},
   "outputs": [
    {
     "name": "stdout",
     "output_type": "stream",
     "text": [
      "313/313 [==============================] - 6s 19ms/step - loss: 0.5514 - acc: 0.8317\n",
      "loss = 0.5514371395111084\n",
      "accuracy = 0.8317000269889832\n"
     ]
    }
   ],
   "source": [
    "#loss_and_acc = model.evaluate(x_test, y_test_vec)\n",
    "loss_and_acc = model.evaluate(test_generator)\n",
    "print('loss = ' + str(loss_and_acc[0]))\n",
    "print('accuracy = ' + str(loss_and_acc[1]))"
   ]
  },
  {
   "cell_type": "code",
   "execution_count": null,
   "metadata": {},
   "outputs": [],
   "source": []
  }
 ],
 "metadata": {
  "kernelspec": {
   "display_name": "Python 3 (ipykernel)",
   "language": "python",
   "name": "python3"
  },
  "language_info": {
   "codemirror_mode": {
    "name": "ipython",
    "version": 3
   },
   "file_extension": ".py",
   "mimetype": "text/x-python",
   "name": "python",
   "nbconvert_exporter": "python",
   "pygments_lexer": "ipython3",
   "version": "3.9.12"
  }
 },
 "nbformat": 4,
 "nbformat_minor": 2
}

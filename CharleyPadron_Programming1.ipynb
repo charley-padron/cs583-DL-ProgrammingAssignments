{
 "cells": [
  {
   "cell_type": "markdown",
   "metadata": {},
   "source": [
    "# Programming Assignment: Numerical Optimization for Logistic Regression.\n",
    "\n",
    "### Name: Charley Padron\n"
   ]
  },
  {
   "cell_type": "markdown",
   "metadata": {},
   "source": [
    "## 0. You will do the following:\n",
    "\n",
    "1. Read the lecture note: [click here](https://github.com/wangshusen/DeepLearning/blob/master/LectureNotes/Logistic/paper/logistic.pdf)\n",
    "\n",
    "2. Read, complete, and run my code.\n",
    "\n",
    "3. **Implement mini-batch SGD** and evaluate the performance.\n",
    "\n",
    "4. Convert the .IPYNB file to .HTML file.\n",
    "\n",
    "    * The HTML file must contain **the code** and **the output after execution**.\n",
    "    \n",
    "    * Missing **the output after execution** will not be graded.\n",
    "    \n",
    "    \n",
    "5. Upload this .HTML file to your Google Drive, Dropbox, or your Github repo.  (If you submit the file to Google Drive or Dropbox, you must make the file \"open-access\". The delay caused by \"deny of access\" may result in late penalty.)\n",
    "\n",
    "6. On Canvas, submit the Google Drive/Dropbox/Github link to the HTML file.\n",
    "\n",
    "\n",
    "## Grading criteria:\n",
    "\n",
    "1. When computing the ```gradient``` and ```objective function value``` using a batch of samples, use **matrix-vector multiplication** rather than a FOR LOOP of **vector-vector multiplications**.\n",
    "\n",
    "2. Plot ```objective function value``` against ```epochs```. In the plot, compare GD, SGD, and MB-SGD (with $b=8$ and $b=64$). The plot must look reasonable."
   ]
  },
  {
   "cell_type": "code",
   "execution_count": null,
   "metadata": {},
   "outputs": [],
   "source": []
  },
  {
   "cell_type": "markdown",
   "metadata": {},
   "source": [
    "# 1. Data processing\n",
    "\n",
    "- Download the Diabete dataset from https://www.csie.ntu.edu.tw/~cjlin/libsvmtools/datasets/binary/diabetes\n",
    "- Load the data using sklearn.\n",
    "- Preprocess the data."
   ]
  },
  {
   "cell_type": "markdown",
   "metadata": {},
   "source": [
    "## 1.1. Load the data"
   ]
  },
  {
   "cell_type": "code",
   "execution_count": 1,
   "metadata": {},
   "outputs": [
    {
     "name": "stdout",
     "output_type": "stream",
     "text": [
      "Shape of x: (768, 8)\n",
      "Shape of y: (768,)\n"
     ]
    }
   ],
   "source": [
    "from sklearn import datasets\n",
    "import numpy\n",
    "\n",
    "x_sparse, y = datasets.load_svmlight_file('diabetes')\n",
    "x = x_sparse.todense()\n",
    "\n",
    "print('Shape of x: ' + str(x.shape))\n",
    "print('Shape of y: ' + str(y.shape))"
   ]
  },
  {
   "cell_type": "markdown",
   "metadata": {},
   "source": [
    "## 1.2. Partition to training and test sets"
   ]
  },
  {
   "cell_type": "code",
   "execution_count": 2,
   "metadata": {},
   "outputs": [
    {
     "name": "stdout",
     "output_type": "stream",
     "text": [
      "Shape of x_train: (640, 8)\n",
      "Shape of x_test: (128, 8)\n",
      "Shape of y_train: (640, 1)\n",
      "Shape of y_test: (128, 1)\n"
     ]
    }
   ],
   "source": [
    "# partition the data to training and test sets\n",
    "n = x.shape[0]\n",
    "n_train = 640\n",
    "n_test = n - n_train\n",
    "\n",
    "rand_indices = numpy.random.permutation(n)\n",
    "train_indices = rand_indices[0:n_train]\n",
    "test_indices = rand_indices[n_train:n]\n",
    "\n",
    "x_train = x[train_indices, :]\n",
    "x_test = x[test_indices, :]\n",
    "y_train = y[train_indices].reshape(n_train, 1)\n",
    "y_test = y[test_indices].reshape(n_test, 1)\n",
    "\n",
    "print('Shape of x_train: ' + str(x_train.shape))\n",
    "print('Shape of x_test: ' + str(x_test.shape))\n",
    "print('Shape of y_train: ' + str(y_train.shape))\n",
    "print('Shape of y_test: ' + str(y_test.shape))"
   ]
  },
  {
   "cell_type": "markdown",
   "metadata": {},
   "source": [
    "## 1.3. Feature scaling"
   ]
  },
  {
   "cell_type": "markdown",
   "metadata": {},
   "source": [
    "Use the standardization to trainsform both training and test features"
   ]
  },
  {
   "cell_type": "code",
   "execution_count": 3,
   "metadata": {},
   "outputs": [
    {
     "name": "stdout",
     "output_type": "stream",
     "text": [
      "test mean = \n",
      "[[-0.02770872 -0.06195838 -0.02179361 -0.04389127  0.00173306  0.01687123\n",
      "  -0.01644846 -0.10625693]]\n",
      "test std = \n",
      "[[0.86567255 0.96005623 0.92717332 0.99668213 1.16938737 0.96964197\n",
      "  1.07871164 0.82253986]]\n"
     ]
    }
   ],
   "source": [
    "# Standardization\n",
    "import numpy\n",
    "\n",
    "# calculate mu and sig using the training set\n",
    "d = x_train.shape[1]\n",
    "mu = numpy.mean(x_train, axis=0).reshape(1, d)\n",
    "sig = numpy.std(x_train, axis=0).reshape(1, d)\n",
    "\n",
    "# transform the training features\n",
    "x_train = (x_train - mu) / (sig + 1E-6)\n",
    "\n",
    "# transform the test features\n",
    "x_test = (x_test - mu) / (sig + 1E-6)\n",
    "\n",
    "print('test mean = ')\n",
    "print(numpy.mean(x_test, axis=0))\n",
    "\n",
    "print('test std = ')\n",
    "print(numpy.std(x_test, axis=0))"
   ]
  },
  {
   "cell_type": "markdown",
   "metadata": {},
   "source": [
    "## 1.4. Add a dimension of all ones"
   ]
  },
  {
   "cell_type": "code",
   "execution_count": 4,
   "metadata": {},
   "outputs": [
    {
     "name": "stdout",
     "output_type": "stream",
     "text": [
      "Shape of x_train: (640, 9)\n",
      "Shape of x_test: (128, 9)\n"
     ]
    }
   ],
   "source": [
    "n_train, d = x_train.shape\n",
    "x_train = numpy.concatenate((x_train, numpy.ones((n_train, 1))), axis=1)\n",
    "\n",
    "n_test, d = x_test.shape\n",
    "x_test = numpy.concatenate((x_test, numpy.ones((n_test, 1))), axis=1)\n",
    "\n",
    "print('Shape of x_train: ' + str(x_train.shape))\n",
    "print('Shape of x_test: ' + str(x_test.shape))"
   ]
  },
  {
   "cell_type": "markdown",
   "metadata": {},
   "source": [
    "# 2. Logistic regression model\n",
    "\n",
    "The objective function is $Q (w; X, y) = \\frac{1}{n} \\sum_{i=1}^n \\log \\Big( 1 + \\exp \\big( - y_i x_i^T w \\big) \\Big) + \\frac{\\lambda}{2} \\| w \\|_2^2 $."
   ]
  },
  {
   "cell_type": "code",
   "execution_count": 5,
   "metadata": {},
   "outputs": [],
   "source": [
    "# Calculate the objective function value\n",
    "# Inputs:\n",
    "#     w: d-by-1 matrix\n",
    "#     x: n-by-d matrix\n",
    "#     y: n-by-1 matrix\n",
    "#     lam: scalar, the regularization parameter\n",
    "# Return:\n",
    "#     objective function value (scalar)\n",
    "def objective(w, x, y, lam):\n",
    "    n, d = x.shape\n",
    "    yx = numpy.multiply(y, x) # n-by-d matrix\n",
    "    yxw = numpy.dot(yx, w) # n-by-1 matrix\n",
    "    vec1 = numpy.exp(-yxw) # n-by-1 matrix\n",
    "    vec2 = numpy.log(1 + vec1) # n-by-1 matrix\n",
    "    loss = numpy.mean(vec2) # scalar\n",
    "    reg = lam / 2 * numpy.sum(w * w) # scalar\n",
    "    return loss + reg\n",
    "    "
   ]
  },
  {
   "cell_type": "code",
   "execution_count": 6,
   "metadata": {},
   "outputs": [
    {
     "name": "stdout",
     "output_type": "stream",
     "text": [
      "Initial objective function value = 0.6931471805599453\n"
     ]
    }
   ],
   "source": [
    "# initialize w\n",
    "d = x_train.shape[1]\n",
    "w = numpy.zeros((d, 1))\n",
    "\n",
    "# evaluate the objective function value at w\n",
    "lam = 1E-6\n",
    "objval0 = objective(w, x_train, y_train, lam)\n",
    "print('Initial objective function value = ' + str(objval0))"
   ]
  },
  {
   "cell_type": "markdown",
   "metadata": {},
   "source": [
    "# 3. Numerical optimization"
   ]
  },
  {
   "cell_type": "markdown",
   "metadata": {},
   "source": [
    "## 3.1. Gradient descent\n"
   ]
  },
  {
   "cell_type": "markdown",
   "metadata": {},
   "source": [
    "The gradient at $w$ is $g = - \\frac{1}{n} \\sum_{i=1}^n \\frac{y_i x_i }{1 + \\exp ( y_i x_i^T w)} + \\lambda w$"
   ]
  },
  {
   "cell_type": "code",
   "execution_count": 7,
   "metadata": {},
   "outputs": [],
   "source": [
    "# Calculate the gradient\n",
    "# Inputs:\n",
    "#     w: d-by-1 matrix\n",
    "#     x: n-by-d matrix\n",
    "#     y: n-by-1 matrix\n",
    "#     lam: scalar, the regularization parameter\n",
    "# Return:\n",
    "#     g: g: d-by-1 matrix, full gradient\n",
    "def gradient(w, x, y, lam):\n",
    "    n, d = x.shape\n",
    "    yx = numpy.multiply(y, x) # n-by-d matrix\n",
    "    yxw = numpy.dot(yx, w) # n-by-1 matrix\n",
    "    vec1 = numpy.exp(yxw) # n-by-1 matrix\n",
    "    vec2 = numpy.divide(yx, 1+vec1) # n-by-d matrix\n",
    "    vec3 = -numpy.mean(vec2, axis=0).reshape(d, 1) # d-by-1 matrix\n",
    "    g = vec3 + lam * w\n",
    "    return g"
   ]
  },
  {
   "cell_type": "code",
   "execution_count": 8,
   "metadata": {},
   "outputs": [],
   "source": [
    "# Gradient descent for solving logistic regression\n",
    "# Inputs:\n",
    "#     x: n-by-d matrix\n",
    "#     y: n-by-1 matrix\n",
    "#     lam: scalar, the regularization parameter\n",
    "#     stepsize: scalar\n",
    "#     max_iter: integer, the maximal iterations\n",
    "#     w: d-by-1 matrix, initialization of w\n",
    "# Return:\n",
    "#     w: d-by-1 matrix, the solution\n",
    "#     objvals: a record of each iteration's objective value\n",
    "def grad_descent(x, y, lam, stepsize, max_iter=100, w=None):\n",
    "    n, d = x.shape\n",
    "    objvals = numpy.zeros(max_iter) # store the objective values\n",
    "    if w is None:\n",
    "        w = numpy.zeros((d, 1)) # zero initialization\n",
    "    \n",
    "    for t in range(max_iter):\n",
    "        objval = objective(w, x, y, lam)\n",
    "        objvals[t] = objval\n",
    "        print('Objective value at t=' + str(t) + ' is ' + str(objval))\n",
    "        g = gradient(w, x, y, lam)\n",
    "        w -= stepsize * g\n",
    "    \n",
    "    return w, objvals"
   ]
  },
  {
   "cell_type": "markdown",
   "metadata": {},
   "source": [
    "Run gradient descent."
   ]
  },
  {
   "cell_type": "code",
   "execution_count": 9,
   "metadata": {},
   "outputs": [
    {
     "name": "stdout",
     "output_type": "stream",
     "text": [
      "Objective value at t=0 is 0.6931471805599453\n",
      "Objective value at t=1 is 0.5870646988041345\n",
      "Objective value at t=2 is 0.5447125761389378\n",
      "Objective value at t=3 is 0.5220586194559896\n",
      "Objective value at t=4 is 0.5079074186493108\n",
      "Objective value at t=5 is 0.49829400621897757\n",
      "Objective value at t=6 is 0.4914248326010785\n",
      "Objective value at t=7 is 0.48634944092971405\n",
      "Objective value at t=8 is 0.48250833314184227\n",
      "Objective value at t=9 is 0.4795476822951697\n",
      "Objective value at t=10 is 0.47723213931220676\n",
      "Objective value at t=11 is 0.4753992542449298\n",
      "Objective value at t=12 is 0.47393366894661393\n",
      "Objective value at t=13 is 0.47275159053642674\n",
      "Objective value at t=14 is 0.4717910062410314\n",
      "Objective value at t=15 is 0.47100528939394426\n",
      "Objective value at t=16 is 0.4703588986975744\n",
      "Objective value at t=17 is 0.46982441573746797\n",
      "Objective value at t=18 is 0.46938046279571594\n",
      "Objective value at t=19 is 0.4690102136238243\n",
      "Objective value at t=20 is 0.4687003117904143\n",
      "Objective value at t=21 is 0.4684400741647851\n",
      "Objective value at t=22 is 0.4682208970283565\n",
      "Objective value at t=23 is 0.4680358082261774\n",
      "Objective value at t=24 is 0.46787912593337827\n",
      "Objective value at t=25 is 0.46774619617573415\n",
      "Objective value at t=26 is 0.46763318915827773\n",
      "Objective value at t=27 is 0.467536939950235\n",
      "Objective value at t=28 is 0.4674548229385694\n",
      "Objective value at t=29 is 0.4673846522127613\n",
      "Objective value at t=30 is 0.46732460202311804\n",
      "Objective value at t=31 is 0.4672731428948576\n",
      "Objective value at t=32 is 0.4672289900379119\n",
      "Objective value at t=33 is 0.467191061476516\n",
      "Objective value at t=34 is 0.4671584439090454\n",
      "Objective value at t=35 is 0.4671303647506866\n",
      "Objective value at t=36 is 0.4671061691474783\n",
      "Objective value at t=37 is 0.467085301007397\n",
      "Objective value at t=38 is 0.46706728729234903\n",
      "Objective value at t=39 is 0.46705172496868486\n",
      "Objective value at t=40 is 0.4670382701338641\n",
      "Objective value at t=41 is 0.46702662893114044\n",
      "Objective value at t=42 is 0.4670165499385404\n",
      "Objective value at t=43 is 0.4670078177774624\n",
      "Objective value at t=44 is 0.4670002477333318\n",
      "Objective value at t=45 is 0.4669936812184983\n",
      "Objective value at t=46 is 0.4669879819379497\n",
      "Objective value at t=47 is 0.4669830326429866\n",
      "Objective value at t=48 is 0.46697873237794046\n",
      "Objective value at t=49 is 0.46697499414126015\n",
      "Objective value at t=50 is 0.4669717428955797\n",
      "Objective value at t=51 is 0.46696891387226774\n",
      "Objective value at t=52 is 0.46696645112493756\n",
      "Objective value at t=53 is 0.46696430629379093\n",
      "Objective value at t=54 is 0.46696243754880407\n",
      "Objective value at t=55 is 0.46696080868484946\n",
      "Objective value at t=56 is 0.4669593883460827\n",
      "Objective value at t=57 is 0.4669581493604564\n",
      "Objective value at t=58 is 0.4669570681681776\n",
      "Objective value at t=59 is 0.46695612433040234\n",
      "Objective value at t=60 is 0.46695530010653596\n",
      "Objective value at t=61 is 0.4669545800902633\n",
      "Objective value at t=62 is 0.4669539508959011\n",
      "Objective value at t=63 is 0.4669534008879152\n",
      "Objective value at t=64 is 0.4669529199474945\n",
      "Objective value at t=65 is 0.46695249927096877\n",
      "Objective value at t=66 is 0.46695213119561046\n",
      "Objective value at t=67 is 0.4669518090490091\n",
      "Objective value at t=68 is 0.4669515270187471\n",
      "Objective value at t=69 is 0.4669512800395771\n",
      "Objective value at t=70 is 0.4669510636956967\n",
      "Objective value at t=71 is 0.4669508741360532\n",
      "Objective value at t=72 is 0.46695070800090355\n",
      "Objective value at t=73 is 0.4669505623581036\n",
      "Objective value at t=74 is 0.4669504346478078\n",
      "Objective value at t=75 is 0.4669503226344493\n",
      "Objective value at t=76 is 0.4669502243650221\n",
      "Objective value at t=77 is 0.4669501381328212\n",
      "Objective value at t=78 is 0.4669500624459145\n",
      "Objective value at t=79 is 0.46694999599971726\n",
      "Objective value at t=80 is 0.466949937653125\n",
      "Objective value at t=81 is 0.46694988640773555\n",
      "Objective value at t=82 is 0.4669498413897531\n",
      "Objective value at t=83 is 0.4669498018342219\n",
      "Objective value at t=84 is 0.46694976707128605\n",
      "Objective value at t=85 is 0.4669497365142078\n",
      "Objective value at t=86 is 0.4669497096489199\n",
      "Objective value at t=87 is 0.4669496860249079\n",
      "Objective value at t=88 is 0.466949665247254\n",
      "Objective value at t=89 is 0.46694964696968977\n",
      "Objective value at t=90 is 0.4669496308885304\n",
      "Objective value at t=91 is 0.4669496167373733\n",
      "Objective value at t=92 is 0.4669496042824676\n",
      "Objective value at t=93 is 0.46694959331866526\n",
      "Objective value at t=94 is 0.46694958366588013\n",
      "Objective value at t=95 is 0.46694957516599245\n",
      "Objective value at t=96 is 0.4669495676801394\n",
      "Objective value at t=97 is 0.46694956108634383\n",
      "Objective value at t=98 is 0.46694955527743953\n",
      "Objective value at t=99 is 0.4669495501592532\n"
     ]
    }
   ],
   "source": [
    "lam = 1E-6\n",
    "stepsize = 1.0\n",
    "w, objvals_gd = grad_descent(x_train, y_train, lam, stepsize)"
   ]
  },
  {
   "cell_type": "markdown",
   "metadata": {},
   "source": [
    "## 3.2. Stochastic gradient descent (SGD)\n",
    "\n",
    "Define $Q_i (w) = \\log \\Big( 1 + \\exp \\big( - y_i x_i^T w \\big) \\Big) + \\frac{\\lambda}{2} \\| w \\|_2^2 $.\n",
    "\n",
    "The stochastic gradient at $w$ is $g_i = \\frac{\\partial Q_i }{ \\partial w} = -\\frac{y_i x_i }{1 + \\exp ( y_i x_i^T w)} + \\lambda w$."
   ]
  },
  {
   "cell_type": "code",
   "execution_count": 10,
   "metadata": {},
   "outputs": [],
   "source": [
    "# Calculate the objective Q_i and the gradient of Q_i\n",
    "# Inputs:\n",
    "#     w: d-by-1 matrix\n",
    "#     xi: 1-by-d matrix\n",
    "#     yi: scalar\n",
    "#     lam: scalar, the regularization parameter\n",
    "# Return:\n",
    "#     obj: scalar, the objective Q_i\n",
    "#     g: d-by-1 matrix, gradient of Q_i\n",
    "def stochastic_objective_gradient(w, xi, yi, lam):\n",
    "    yx = yi * xi # 1-by-d matrix\n",
    "    yxw = float(numpy.dot(yx, w)) # scalar\n",
    "    \n",
    "    # calculate objective function Q_i\n",
    "    loss = numpy.log(1 + numpy.exp(-yxw)) # scalar\n",
    "    reg = lam / 2 * numpy.sum(w * w) # scalar\n",
    "    obj = loss + reg\n",
    "    \n",
    "    # calculate stochastic gradient\n",
    "    g_loss = -yx.T / (1 + numpy.exp(yxw)) # d-by-1 matrix\n",
    "    g = g_loss + lam * w # d-by-1 matrix\n",
    "    \n",
    "    return obj, g"
   ]
  },
  {
   "cell_type": "code",
   "execution_count": 11,
   "metadata": {},
   "outputs": [],
   "source": [
    "# SGD for solving logistic regression\n",
    "# Inputs:\n",
    "#     x: n-by-d matrix\n",
    "#     y: n-by-1 matrix\n",
    "#     lam: scalar, the regularization parameter\n",
    "#     stepsize: scalar\n",
    "#     max_epoch: integer, the maximal epochs\n",
    "#     w: d-by-1 matrix, initialization of w\n",
    "# Return:\n",
    "#     w: the solution\n",
    "#     objvals: record of each iteration's objective value\n",
    "def sgd(x, y, lam, stepsize, max_epoch=100, w=None):\n",
    "    n, d = x.shape\n",
    "    objvals = numpy.zeros(max_epoch) # store the objective values\n",
    "    if w is None:\n",
    "        w = numpy.zeros((d, 1)) # zero initialization\n",
    "    \n",
    "    for t in range(max_epoch):\n",
    "        # randomly shuffle the samples\n",
    "        rand_indices = numpy.random.permutation(n)\n",
    "        x_rand = x[rand_indices, :]\n",
    "        y_rand = y[rand_indices, :]\n",
    "        \n",
    "        objval = 0 # accumulate the objective values\n",
    "        for i in range(n):\n",
    "            xi = x_rand[i, :] # 1-by-d matrix\n",
    "            yi = float(y_rand[i, :]) # scalar\n",
    "            obj, g = stochastic_objective_gradient(w, xi, yi, lam)\n",
    "            objval += obj\n",
    "            w -= stepsize * g\n",
    "        \n",
    "        stepsize *= 0.9 # decrease step size\n",
    "        objval /= n\n",
    "        objvals[t] = objval\n",
    "        print('Objective value at epoch t=' + str(t) + ' is ' + str(objval))\n",
    "    \n",
    "    return w, objvals"
   ]
  },
  {
   "cell_type": "markdown",
   "metadata": {},
   "source": [
    "Run SGD."
   ]
  },
  {
   "cell_type": "code",
   "execution_count": 12,
   "metadata": {},
   "outputs": [
    {
     "name": "stdout",
     "output_type": "stream",
     "text": [
      "Objective value at epoch t=0 is 0.5223993407017071\n",
      "Objective value at epoch t=1 is 0.5091200014591566\n",
      "Objective value at epoch t=2 is 0.5068030309406272\n",
      "Objective value at epoch t=3 is 0.5017778677149182\n",
      "Objective value at epoch t=4 is 0.49991194251929094\n",
      "Objective value at epoch t=5 is 0.5018796659318937\n",
      "Objective value at epoch t=6 is 0.48811476613375404\n",
      "Objective value at epoch t=7 is 0.4869609313431482\n",
      "Objective value at epoch t=8 is 0.4844032481487762\n",
      "Objective value at epoch t=9 is 0.4896097066256152\n",
      "Objective value at epoch t=10 is 0.4835056003390368\n",
      "Objective value at epoch t=11 is 0.48502471899760974\n",
      "Objective value at epoch t=12 is 0.4840388059400563\n",
      "Objective value at epoch t=13 is 0.4792538618760518\n",
      "Objective value at epoch t=14 is 0.4783996676130696\n",
      "Objective value at epoch t=15 is 0.4810801417718268\n",
      "Objective value at epoch t=16 is 0.47716844474684283\n",
      "Objective value at epoch t=17 is 0.47780616951440297\n",
      "Objective value at epoch t=18 is 0.47531328163573405\n",
      "Objective value at epoch t=19 is 0.47207951739835136\n",
      "Objective value at epoch t=20 is 0.4738415237497836\n",
      "Objective value at epoch t=21 is 0.4735719016345346\n",
      "Objective value at epoch t=22 is 0.47162526817175\n",
      "Objective value at epoch t=23 is 0.4730932382113376\n",
      "Objective value at epoch t=24 is 0.47201205816587244\n",
      "Objective value at epoch t=25 is 0.4715585728421369\n",
      "Objective value at epoch t=26 is 0.4711300306521286\n",
      "Objective value at epoch t=27 is 0.47076141262653615\n",
      "Objective value at epoch t=28 is 0.47045661271250827\n",
      "Objective value at epoch t=29 is 0.46984572933991997\n",
      "Objective value at epoch t=30 is 0.4698401552133536\n",
      "Objective value at epoch t=31 is 0.4695296040421977\n",
      "Objective value at epoch t=32 is 0.46922424154689474\n",
      "Objective value at epoch t=33 is 0.46903726520730515\n",
      "Objective value at epoch t=34 is 0.46869249841672805\n",
      "Objective value at epoch t=35 is 0.4686164419277559\n",
      "Objective value at epoch t=36 is 0.46847417842263034\n",
      "Objective value at epoch t=37 is 0.4682611684305863\n",
      "Objective value at epoch t=38 is 0.4682077921208891\n",
      "Objective value at epoch t=39 is 0.4680722484395322\n",
      "Objective value at epoch t=40 is 0.46793586510635643\n",
      "Objective value at epoch t=41 is 0.4678591337293458\n",
      "Objective value at epoch t=42 is 0.4677631601331845\n",
      "Objective value at epoch t=43 is 0.4676766591005432\n",
      "Objective value at epoch t=44 is 0.4676143440750916\n",
      "Objective value at epoch t=45 is 0.46755217818085704\n",
      "Objective value at epoch t=46 is 0.4674852106820645\n",
      "Objective value at epoch t=47 is 0.4674357934872952\n",
      "Objective value at epoch t=48 is 0.4673892947345536\n",
      "Objective value at epoch t=49 is 0.4673470928008694\n",
      "Objective value at epoch t=50 is 0.46730592104391055\n",
      "Objective value at epoch t=51 is 0.4672708255021091\n",
      "Objective value at epoch t=52 is 0.46723790883216976\n",
      "Objective value at epoch t=53 is 0.46721055435845765\n",
      "Objective value at epoch t=54 is 0.46718401010863697\n",
      "Objective value at epoch t=55 is 0.4671610218868363\n",
      "Objective value at epoch t=56 is 0.46714017404528035\n",
      "Objective value at epoch t=57 is 0.46712044555754695\n",
      "Objective value at epoch t=58 is 0.4671030166890696\n",
      "Objective value at epoch t=59 is 0.46708845211334094\n",
      "Objective value at epoch t=60 is 0.4670746319082609\n",
      "Objective value at epoch t=61 is 0.46706217275819417\n",
      "Objective value at epoch t=62 is 0.4670510341831274\n",
      "Objective value at epoch t=63 is 0.46704078550199835\n",
      "Objective value at epoch t=64 is 0.4670317764489143\n",
      "Objective value at epoch t=65 is 0.4670235754653289\n",
      "Objective value at epoch t=66 is 0.4670162377606081\n",
      "Objective value at epoch t=67 is 0.46700964510249376\n",
      "Objective value at epoch t=68 is 0.46700366888577777\n",
      "Objective value at epoch t=69 is 0.46699822270109853\n",
      "Objective value at epoch t=70 is 0.46699346054197993\n",
      "Objective value at epoch t=71 is 0.46698910675105576\n",
      "Objective value at epoch t=72 is 0.4669851476924074\n",
      "Objective value at epoch t=73 is 0.46698164791205155\n",
      "Objective value at epoch t=74 is 0.46697846068353854\n",
      "Objective value at epoch t=75 is 0.4669755977912158\n",
      "Objective value at epoch t=76 is 0.4669730352871609\n",
      "Objective value at epoch t=77 is 0.4669707105429695\n",
      "Objective value at epoch t=78 is 0.46696862462435335\n",
      "Objective value at epoch t=79 is 0.4669667440383879\n",
      "Objective value at epoch t=80 is 0.4669650588533184\n",
      "Objective value at epoch t=81 is 0.4669635374350718\n",
      "Objective value at epoch t=82 is 0.4669621703650404\n",
      "Objective value at epoch t=83 is 0.4669609370944582\n",
      "Objective value at epoch t=84 is 0.4669598279732911\n",
      "Objective value at epoch t=85 is 0.46695882941200695\n",
      "Objective value at epoch t=86 is 0.46695793208931546\n",
      "Objective value at epoch t=87 is 0.4669571234139361\n",
      "Objective value at epoch t=88 is 0.46695639363057506\n",
      "Objective value at epoch t=89 is 0.4669557402488195\n",
      "Objective value at epoch t=90 is 0.46695515091467754\n",
      "Objective value at epoch t=91 is 0.46695462077470884\n",
      "Objective value at epoch t=92 is 0.46695414279637965\n",
      "Objective value at epoch t=93 is 0.4669537131110089\n",
      "Objective value at epoch t=94 is 0.4669533265899262\n",
      "Objective value at epoch t=95 is 0.4669529784290753\n",
      "Objective value at epoch t=96 is 0.4669526650834209\n",
      "Objective value at epoch t=97 is 0.4669523831480329\n",
      "Objective value at epoch t=98 is 0.4669521293231921\n",
      "Objective value at epoch t=99 is 0.4669519009369106\n"
     ]
    }
   ],
   "source": [
    "lam = 1E-6\n",
    "stepsize = 0.1\n",
    "w, objvals_sgd = sgd(x_train, y_train, lam, stepsize)"
   ]
  },
  {
   "cell_type": "markdown",
   "metadata": {},
   "source": [
    "# 4. Compare GD with SGD\n",
    "\n",
    "Plot objective function values against epochs."
   ]
  },
  {
   "cell_type": "code",
   "execution_count": 13,
   "metadata": {},
   "outputs": [
    {
     "name": "stderr",
     "output_type": "stream",
     "text": [
      "C:\\Users\\Charley\\AppData\\Local\\Temp/ipykernel_14068/535934915.py:9: MatplotlibDeprecationWarning: Case-insensitive properties were deprecated in 3.3 and support will be removed two minor releases later\n",
      "  line0, = plt.plot(epochs_gd, objvals_gd, '--b', LineWidth=4)\n",
      "C:\\Users\\Charley\\AppData\\Local\\Temp/ipykernel_14068/535934915.py:10: MatplotlibDeprecationWarning: Case-insensitive properties were deprecated in 3.3 and support will be removed two minor releases later\n",
      "  line1, = plt.plot(epochs_sgd, objvals_sgd, '-r', LineWidth=2)\n",
      "C:\\Users\\Charley\\AppData\\Local\\Temp/ipykernel_14068/535934915.py:11: MatplotlibDeprecationWarning: Case-insensitive properties were deprecated in 3.3 and support will be removed two minor releases later\n",
      "  plt.xlabel('Epochs', FontSize=20)\n",
      "C:\\Users\\Charley\\AppData\\Local\\Temp/ipykernel_14068/535934915.py:12: MatplotlibDeprecationWarning: Case-insensitive properties were deprecated in 3.3 and support will be removed two minor releases later\n",
      "  plt.ylabel('Objective Value', FontSize=20)\n",
      "C:\\Users\\Charley\\AppData\\Local\\Temp/ipykernel_14068/535934915.py:13: MatplotlibDeprecationWarning: Case-insensitive properties were deprecated in 3.3 and support will be removed two minor releases later\n",
      "  plt.xticks(FontSize=16)\n",
      "C:\\Users\\Charley\\AppData\\Local\\Temp/ipykernel_14068/535934915.py:14: MatplotlibDeprecationWarning: Case-insensitive properties were deprecated in 3.3 and support will be removed two minor releases later\n",
      "  plt.yticks(FontSize=16)\n"
     ]
    },
    {
     "data": {
      "image/png": "[encoded data removed]",
      "text/plain": [
       "<Figure size 432x288 with 1 Axes>"
      ]
     },
     "metadata": {
      "needs_background": "light"
     },
     "output_type": "display_data"
    }
   ],
   "source": [
    "import matplotlib.pyplot as plt\n",
    "%matplotlib inline\n",
    "\n",
    "fig = plt.figure(figsize=(6, 4))\n",
    "\n",
    "epochs_gd = range(len(objvals_gd))\n",
    "epochs_sgd = range(len(objvals_sgd))\n",
    "\n",
    "line0, = plt.plot(epochs_gd, objvals_gd, '--b', LineWidth=4)\n",
    "line1, = plt.plot(epochs_sgd, objvals_sgd, '-r', LineWidth=2)\n",
    "plt.xlabel('Epochs', FontSize=20)\n",
    "plt.ylabel('Objective Value', FontSize=20)\n",
    "plt.xticks(FontSize=16)\n",
    "plt.yticks(FontSize=16)\n",
    "plt.legend([line0, line1], ['GD', 'SGD'], fontsize=20)\n",
    "plt.tight_layout()\n",
    "plt.show()\n",
    "fig.savefig('compare_gd_sgd.pdf', format='pdf', dpi=1200)"
   ]
  },
  {
   "cell_type": "markdown",
   "metadata": {},
   "source": [
    "# 5. Prediction"
   ]
  },
  {
   "cell_type": "code",
   "execution_count": 14,
   "metadata": {},
   "outputs": [],
   "source": [
    "# Predict class label\n",
    "# Inputs:\n",
    "#     w: d-by-1 matrix\n",
    "#     X: m-by-d matrix\n",
    "# Return:\n",
    "#     f: m-by-1 matrix, the predictions\n",
    "def predict(w, X):\n",
    "    xw = numpy.dot(X, w)\n",
    "    f = numpy.sign(xw)\n",
    "    return f"
   ]
  },
  {
   "cell_type": "code",
   "execution_count": 15,
   "metadata": {},
   "outputs": [
    {
     "name": "stdout",
     "output_type": "stream",
     "text": [
      "Training classification error is 0.221875\n"
     ]
    }
   ],
   "source": [
    "# evaluate training error\n",
    "f_train = predict(w, x_train)\n",
    "diff = numpy.abs(f_train - y_train) / 2\n",
    "error_train = numpy.mean(diff)\n",
    "print('Training classification error is ' + str(error_train))"
   ]
  },
  {
   "cell_type": "code",
   "execution_count": 16,
   "metadata": {},
   "outputs": [
    {
     "name": "stdout",
     "output_type": "stream",
     "text": [
      "Test classification error is 0.25\n"
     ]
    }
   ],
   "source": [
    "# evaluate test error\n",
    "f_test = predict(w, x_test)\n",
    "diff = numpy.abs(f_test - y_test) / 2\n",
    "error_test = numpy.mean(diff)\n",
    "print('Test classification error is ' + str(error_test))"
   ]
  },
  {
   "cell_type": "markdown",
   "metadata": {},
   "source": [
    "# 6. Mini-batch SGD (fill the code)\n",
    "\n"
   ]
  },
  {
   "cell_type": "markdown",
   "metadata": {},
   "source": [
    "## 6.1. Compute the objective $Q_I$ and its gradient using a batch of samples\n",
    "\n",
    "Define $Q_I (w) = \\frac{1}{b} \\sum_{i \\in I} \\log \\Big( 1 + \\exp \\big( - y_i x_i^T w \\big) \\Big) + \\frac{\\lambda}{2} \\| w \\|_2^2 $, where $I$ is a set containing $b$ indices randomly drawn from $\\{ 1, \\cdots , n \\}$ without replacement.\n",
    "\n",
    "The stochastic gradient at $w$ is $g_I = \\frac{\\partial Q_I }{ \\partial w} = \\frac{1}{b} \\sum_{i \\in I} \\frac{- y_i x_i }{1 + \\exp ( y_i x_i^T w)} + \\lambda w$."
   ]
  },
  {
   "cell_type": "code",
   "execution_count": 59,
   "metadata": {},
   "outputs": [],
   "source": [
    "# Calculate the objective Q_I and the gradient of Q_I\n",
    "# Inputs:\n",
    "#     w: d-by-1 matrix\n",
    "#     xi: b-by-d matrix\n",
    "#     yi: b-by-1 matrix\n",
    "#     lam: scalar, the regularization parameter\n",
    "#     b: integer, the batch size\n",
    "# Return:\n",
    "#     obj: scalar, the objective Q_i\n",
    "#     g: d-by-1 matrix, gradient of Q_i\n",
    "def mb_stochastic_objective_gradient(w, xi, yi, lam, b):\n",
    "    # Fill the function\n",
    "    # Follow the implementation of stochastic_objective_gradient\n",
    "    # Use matrix-vector multiplication; do not use FOR LOOP of vector-vector multiplications\n",
    "    ...\n",
    "    \n",
    "    #yx = yi * xi \n",
    "    #yx = numpy.dot(yi, xi)\n",
    "    #yx = numpy.matmul(yi, xi)\n",
    "    yx = numpy.multiply(yi, xi)\n",
    "    #yxw = float(numpy.dot(yx, w))\n",
    "    yxw = numpy.dot(yx, w)\n",
    "    \n",
    "    loss = numpy.mean(numpy.log(1 + numpy.exp(-yxw)))\n",
    "    reg = lam / 2 * numpy.sum(w * w)\n",
    "    #obj = ((1/b)*loss) + reg\n",
    "    obj = loss + reg\n",
    "    \n",
    "    n, d = xi.shape\n",
    "    \n",
    "    g_loss = -yx / (1 + numpy.exp(yxw))\n",
    "    g_lossMean = numpy.mean((g_loss), axis=0).reshape(d,1)\n",
    "    #g = (1/b)*(g_loss + lam * w) \n",
    "    g = g_lossMean + lam * w\n",
    "    \n",
    "    return obj, g"
   ]
  },
  {
   "cell_type": "markdown",
   "metadata": {},
   "source": [
    "## 6.2. Implement mini-batch SGD\n",
    "\n",
    "Hints:\n",
    "1. In every epoch, randomly permute the $n$ samples (just like SGD).\n",
    "2. Each epoch has $\\frac{n}{b}$ iterations. In every iteration, use $b$ samples, and compute the gradient and objective using the ``mb_stochastic_objective_gradient`` function. In the next iteration, use the next $b$ samples, and so on.\n"
   ]
  },
  {
   "cell_type": "code",
   "execution_count": 60,
   "metadata": {},
   "outputs": [],
   "source": [
    "# Mini-Batch SGD for solving logistic regression\n",
    "# Inputs:\n",
    "#     x: n-by-d matrix\n",
    "#     y: n-by-1 matrix\n",
    "#     lam: scalar, the regularization parameter\n",
    "#     b: integer, the batch size\n",
    "#     stepsize: scalar\n",
    "#     max_epoch: integer, the maximal epochs\n",
    "#     w: d-by-1 matrix, initialization of w\n",
    "# Return:\n",
    "#     w: the solution\n",
    "#     objvals: record of each iteration's objective value\n",
    "def mb_sgd(x, y, lam, b, stepsize, max_epoch=100, w=None):\n",
    "    # Fill the function\n",
    "    # Follow the implementation of sgd\n",
    "    # Record one objective value per epoch (not per iteration!)\n",
    "    ...\n",
    "    \n",
    "    n, d = x.shape\n",
    "    objvals = numpy.zeros(max_epoch) # store the objective values\n",
    "    if w is None:\n",
    "        w = numpy.zeros((d, 1)) # zero initialization\n",
    "    \n",
    "    for t in range(max_epoch):\n",
    "        # randomly shuffle the samples\n",
    "        rand_indices = numpy.random.permutation(n)\n",
    "        x_rand = x[rand_indices, :]\n",
    "        y_rand = y[rand_indices, :]\n",
    "        \n",
    "        num_batches = x_rand.shape[0] // b     \n",
    "        remainder =  x_rand.shape[0] % b \n",
    "        \n",
    "        batches = []\n",
    "        for b_i in range(num_batches):\n",
    "            start = b_i * b\n",
    "            end = (b_i + 1) * b\n",
    "            x_b = x_rand[start:end, :]\n",
    "            y_b = y_rand[start:end, :]\n",
    "            batches.append([x_b, y_b])\n",
    "\n",
    "        if remainder > 0:\n",
    "            x_b = x_rand[-remainder:, :]\n",
    "            y_b = y_rand[-remainder:, :]\n",
    "            batches.append([x_b, y_b])\n",
    "        \n",
    "        objval = 0 # accumulate the objective values\n",
    "        for i in range(len(batches)):\n",
    "            #xi = batches[i][0]\n",
    "            xi, yi = batches[i]\n",
    "            #yi = batches[i][1]\n",
    "            batch = xi.shape[0]\n",
    "            obj, g = mb_stochastic_objective_gradient(w, xi, yi, lam, batch)\n",
    "            objval += obj\n",
    "            w -= stepsize * g\n",
    "        \n",
    "        stepsize *= 0.9 # decrease step size\n",
    "        objval /= (n/b)\n",
    "        objvals[t] = objval\n",
    "        print('Objective value at epoch t=' + str(t) + ' is ' + str(objval))\n",
    "    \n",
    "    return w, objvals"
   ]
  },
  {
   "cell_type": "markdown",
   "metadata": {},
   "source": [
    "## 6.3. Run MB-SGD"
   ]
  },
  {
   "cell_type": "code",
   "execution_count": 61,
   "metadata": {},
   "outputs": [
    {
     "name": "stdout",
     "output_type": "stream",
     "text": [
      "Objective value at epoch t=0 is 0.541903796422966\n",
      "Objective value at epoch t=1 is 0.4839539649725121\n",
      "Objective value at epoch t=2 is 0.47645245294857597\n",
      "Objective value at epoch t=3 is 0.472597244694607\n",
      "Objective value at epoch t=4 is 0.4725148795154266\n",
      "Objective value at epoch t=5 is 0.4716333049763489\n",
      "Objective value at epoch t=6 is 0.4713247255781209\n",
      "Objective value at epoch t=7 is 0.47089873888859646\n",
      "Objective value at epoch t=8 is 0.47080308807291144\n",
      "Objective value at epoch t=9 is 0.4699228361784849\n",
      "Objective value at epoch t=10 is 0.46992121002737897\n",
      "Objective value at epoch t=11 is 0.4694902301498346\n",
      "Objective value at epoch t=12 is 0.46934265371733275\n",
      "Objective value at epoch t=13 is 0.46917606080399493\n",
      "Objective value at epoch t=14 is 0.46893006502341344\n",
      "Objective value at epoch t=15 is 0.46866233436510835\n",
      "Objective value at epoch t=16 is 0.46852272943232515\n",
      "Objective value at epoch t=17 is 0.4683805291236716\n",
      "Objective value at epoch t=18 is 0.46813328646616637\n",
      "Objective value at epoch t=19 is 0.4682310757351331\n",
      "Objective value at epoch t=20 is 0.4680875830408791\n",
      "Objective value at epoch t=21 is 0.4678829993025473\n",
      "Objective value at epoch t=22 is 0.46781279138230714\n",
      "Objective value at epoch t=23 is 0.467668031239082\n",
      "Objective value at epoch t=24 is 0.46759599241364286\n",
      "Objective value at epoch t=25 is 0.4675452535204311\n",
      "Objective value at epoch t=26 is 0.467494183945001\n",
      "Objective value at epoch t=27 is 0.4674755992471408\n",
      "Objective value at epoch t=28 is 0.4673738296914204\n",
      "Objective value at epoch t=29 is 0.4673305310406257\n",
      "Objective value at epoch t=30 is 0.46730161196993547\n",
      "Objective value at epoch t=31 is 0.4672573670173598\n",
      "Objective value at epoch t=32 is 0.46724177618233337\n",
      "Objective value at epoch t=33 is 0.467196269444724\n",
      "Objective value at epoch t=34 is 0.4672553059229899\n",
      "Objective value at epoch t=35 is 0.46714831883326413\n",
      "Objective value at epoch t=36 is 0.4671555804678541\n",
      "Objective value at epoch t=37 is 0.46712346619985307\n",
      "Objective value at epoch t=38 is 0.4671187841785275\n",
      "Objective value at epoch t=39 is 0.46708328292561624\n",
      "Objective value at epoch t=40 is 0.4670674564300722\n",
      "Objective value at epoch t=41 is 0.4670648360397619\n",
      "Objective value at epoch t=42 is 0.46704739571950943\n",
      "Objective value at epoch t=43 is 0.4670372152022823\n",
      "Objective value at epoch t=44 is 0.4670368682943297\n",
      "Objective value at epoch t=45 is 0.46702552931979097\n",
      "Objective value at epoch t=46 is 0.467012200802599\n",
      "Objective value at epoch t=47 is 0.46701721591831385\n",
      "Objective value at epoch t=48 is 0.4670059821181389\n",
      "Objective value at epoch t=49 is 0.4669967950816985\n",
      "Objective value at epoch t=50 is 0.4669909691658537\n",
      "Objective value at epoch t=51 is 0.46699086477323065\n",
      "Objective value at epoch t=52 is 0.46698158078010943\n",
      "Objective value at epoch t=53 is 0.4669834370900715\n",
      "Objective value at epoch t=54 is 0.4669787492685689\n",
      "Objective value at epoch t=55 is 0.46697556783554983\n",
      "Objective value at epoch t=56 is 0.46697414066458515\n",
      "Objective value at epoch t=57 is 0.4669709092961691\n",
      "Objective value at epoch t=58 is 0.466968974922992\n",
      "Objective value at epoch t=59 is 0.4669672644755031\n",
      "Objective value at epoch t=60 is 0.46696705242573594\n",
      "Objective value at epoch t=61 is 0.4669631239513401\n",
      "Objective value at epoch t=62 is 0.4669618461969449\n",
      "Objective value at epoch t=63 is 0.4669604868385452\n",
      "Objective value at epoch t=64 is 0.46695984110018485\n",
      "Objective value at epoch t=65 is 0.46695922673267704\n",
      "Objective value at epoch t=66 is 0.46695830400832605\n",
      "Objective value at epoch t=67 is 0.46695817910994775\n",
      "Objective value at epoch t=68 is 0.4669570910276966\n",
      "Objective value at epoch t=69 is 0.46695654492372246\n",
      "Objective value at epoch t=70 is 0.4669555817303026\n",
      "Objective value at epoch t=71 is 0.46695522215405305\n",
      "Objective value at epoch t=72 is 0.4669546558507059\n",
      "Objective value at epoch t=73 is 0.4669544323354252\n",
      "Objective value at epoch t=74 is 0.46695348889495525\n",
      "Objective value at epoch t=75 is 0.46695366540580413\n",
      "Objective value at epoch t=76 is 0.46695314203721017\n",
      "Objective value at epoch t=77 is 0.46695292110340836\n",
      "Objective value at epoch t=78 is 0.4669526234153139\n",
      "Objective value at epoch t=79 is 0.4669524607400291\n",
      "Objective value at epoch t=80 is 0.46695226659315203\n",
      "Objective value at epoch t=81 is 0.46695202943766645\n",
      "Objective value at epoch t=82 is 0.46695191041581535\n",
      "Objective value at epoch t=83 is 0.4669516532372837\n",
      "Objective value at epoch t=84 is 0.4669516048722337\n",
      "Objective value at epoch t=85 is 0.4669515113813195\n",
      "Objective value at epoch t=86 is 0.46695139725794715\n",
      "Objective value at epoch t=87 is 0.46695136747998756\n",
      "Objective value at epoch t=88 is 0.4669512372018615\n",
      "Objective value at epoch t=89 is 0.466951169047812\n",
      "Objective value at epoch t=90 is 0.46695103880192174\n",
      "Objective value at epoch t=91 is 0.4669509758759677\n",
      "Objective value at epoch t=92 is 0.4669509667979549\n",
      "Objective value at epoch t=93 is 0.46695087191219165\n",
      "Objective value at epoch t=94 is 0.466950785581706\n",
      "Objective value at epoch t=95 is 0.4669508219520564\n",
      "Objective value at epoch t=96 is 0.4669507598923781\n",
      "Objective value at epoch t=97 is 0.46695073840597523\n",
      "Objective value at epoch t=98 is 0.4669507034599885\n",
      "Objective value at epoch t=99 is 0.4669506487030709\n"
     ]
    }
   ],
   "source": [
    "# MB-SGD with batch size b=8\n",
    "lam = 1E-6 # do not change\n",
    "b = 8 # do not change\n",
    "stepsize = 0.1 # you must tune this parameter\n",
    "\n",
    "w, objvals_mbsgd8 = mb_sgd(x_train, y_train, lam, b, stepsize)"
   ]
  },
  {
   "cell_type": "code",
   "execution_count": 62,
   "metadata": {},
   "outputs": [
    {
     "name": "stdout",
     "output_type": "stream",
     "text": [
      "Objective value at epoch t=0 is 0.6466916580001106\n",
      "Objective value at epoch t=1 is 0.5802943724555909\n",
      "Objective value at epoch t=2 is 0.5484261164883089\n",
      "Objective value at epoch t=3 is 0.5301544229972187\n",
      "Objective value at epoch t=4 is 0.5181519805486191\n",
      "Objective value at epoch t=5 is 0.5100916805830746\n",
      "Objective value at epoch t=6 is 0.5042154928286599\n",
      "Objective value at epoch t=7 is 0.4998109054940317\n",
      "Objective value at epoch t=8 is 0.49655055044140334\n",
      "Objective value at epoch t=9 is 0.49375193848487\n",
      "Objective value at epoch t=10 is 0.49152571568538217\n",
      "Objective value at epoch t=11 is 0.48979423162298585\n",
      "Objective value at epoch t=12 is 0.48820961580444633\n",
      "Objective value at epoch t=13 is 0.48700135713337966\n",
      "Objective value at epoch t=14 is 0.4859578412920308\n",
      "Objective value at epoch t=15 is 0.48508252241631444\n",
      "Objective value at epoch t=16 is 0.4843900723132209\n",
      "Objective value at epoch t=17 is 0.4837298311358369\n",
      "Objective value at epoch t=18 is 0.4831711806290195\n",
      "Objective value at epoch t=19 is 0.4826492689641896\n",
      "Objective value at epoch t=20 is 0.48229583796944075\n",
      "Objective value at epoch t=21 is 0.48186877779812426\n",
      "Objective value at epoch t=22 is 0.4815913666863397\n",
      "Objective value at epoch t=23 is 0.48129667840352186\n",
      "Objective value at epoch t=24 is 0.4810196332700102\n",
      "Objective value at epoch t=25 is 0.4808261705543573\n",
      "Objective value at epoch t=26 is 0.48066386770916275\n",
      "Objective value at epoch t=27 is 0.4804545772920905\n",
      "Objective value at epoch t=28 is 0.48030213457724874\n",
      "Objective value at epoch t=29 is 0.4801684901627955\n",
      "Objective value at epoch t=30 is 0.4800463976069974\n",
      "Objective value at epoch t=31 is 0.4799541553963712\n",
      "Objective value at epoch t=32 is 0.479836463316052\n",
      "Objective value at epoch t=33 is 0.47975841471789893\n",
      "Objective value at epoch t=34 is 0.4796768629054899\n",
      "Objective value at epoch t=35 is 0.4796116746874904\n",
      "Objective value at epoch t=36 is 0.4795484326941478\n",
      "Objective value at epoch t=37 is 0.47950386105517495\n",
      "Objective value at epoch t=38 is 0.4794421143334051\n",
      "Objective value at epoch t=39 is 0.47940115067857636\n",
      "Objective value at epoch t=40 is 0.4793625167437054\n",
      "Objective value at epoch t=41 is 0.4793235056432904\n",
      "Objective value at epoch t=42 is 0.47928949035000645\n",
      "Objective value at epoch t=43 is 0.47925963696024726\n",
      "Objective value at epoch t=44 is 0.4792387538725623\n",
      "Objective value at epoch t=45 is 0.4792147377293158\n",
      "Objective value at epoch t=46 is 0.4791931185623442\n",
      "Objective value at epoch t=47 is 0.479174720976662\n",
      "Objective value at epoch t=48 is 0.4791554615831335\n",
      "Objective value at epoch t=49 is 0.4791439949618588\n",
      "Objective value at epoch t=50 is 0.4791281437793177\n",
      "Objective value at epoch t=51 is 0.4791173955423963\n",
      "Objective value at epoch t=52 is 0.47910579117442537\n",
      "Objective value at epoch t=53 is 0.479094700446304\n",
      "Objective value at epoch t=54 is 0.4790871491396945\n",
      "Objective value at epoch t=55 is 0.47907945189401885\n",
      "Objective value at epoch t=56 is 0.47907178759871594\n",
      "Objective value at epoch t=57 is 0.47906438019113906\n",
      "Objective value at epoch t=58 is 0.4790585918707708\n",
      "Objective value at epoch t=59 is 0.4790541956563149\n",
      "Objective value at epoch t=60 is 0.4790493194201962\n",
      "Objective value at epoch t=61 is 0.4790450682210462\n",
      "Objective value at epoch t=62 is 0.4790413887038364\n",
      "Objective value at epoch t=63 is 0.47903765233005274\n",
      "Objective value at epoch t=64 is 0.4790348886587582\n",
      "Objective value at epoch t=65 is 0.4790319864456375\n",
      "Objective value at epoch t=66 is 0.4790296394956017\n",
      "Objective value at epoch t=67 is 0.47902711309238677\n",
      "Objective value at epoch t=68 is 0.4790250910935068\n",
      "Objective value at epoch t=69 is 0.4790233189233105\n",
      "Objective value at epoch t=70 is 0.47902179807185263\n",
      "Objective value at epoch t=71 is 0.4790201408745746\n",
      "Objective value at epoch t=72 is 0.47901890288687693\n",
      "Objective value at epoch t=73 is 0.47901795051405915\n",
      "Objective value at epoch t=74 is 0.4790166180523716\n",
      "Objective value at epoch t=75 is 0.4790157225159689\n",
      "Objective value at epoch t=76 is 0.4790148235320492\n",
      "Objective value at epoch t=77 is 0.4790140296964719\n",
      "Objective value at epoch t=78 is 0.4790134197754822\n",
      "Objective value at epoch t=79 is 0.47901275953946076\n",
      "Objective value at epoch t=80 is 0.47901216689489245\n",
      "Objective value at epoch t=81 is 0.47901163764551014\n",
      "Objective value at epoch t=82 is 0.47901119465394243\n",
      "Objective value at epoch t=83 is 0.47901073223134694\n",
      "Objective value at epoch t=84 is 0.4790104001196121\n",
      "Objective value at epoch t=85 is 0.4790100883032006\n",
      "Objective value at epoch t=86 is 0.4790097810521637\n",
      "Objective value at epoch t=87 is 0.4790095208221242\n",
      "Objective value at epoch t=88 is 0.4790092593910228\n",
      "Objective value at epoch t=89 is 0.47900903489357904\n",
      "Objective value at epoch t=90 is 0.4790088446539058\n",
      "Objective value at epoch t=91 is 0.4790086716922148\n",
      "Objective value at epoch t=92 is 0.47900849002050555\n",
      "Objective value at epoch t=93 is 0.47900833110541285\n",
      "Objective value at epoch t=94 is 0.4790082033321835\n",
      "Objective value at epoch t=95 is 0.4790080953780665\n",
      "Objective value at epoch t=96 is 0.47900799749154865\n",
      "Objective value at epoch t=97 is 0.4790079002787385\n",
      "Objective value at epoch t=98 is 0.4790078250947147\n",
      "Objective value at epoch t=99 is 0.4790077423556613\n"
     ]
    }
   ],
   "source": [
    "# MB-SGD with batch size b=64\n",
    "lam = 1E-6 # do not change\n",
    "b = 64 # do not change\n",
    "stepsize = 0.1 # you must tune this parameter\n",
    "\n",
    "w, objvals_mbsgd64 = mb_sgd(x_train, y_train, lam, b, stepsize)"
   ]
  },
  {
   "cell_type": "markdown",
   "metadata": {},
   "source": [
    "# 7. Plot and compare GD, SGD, and MB-SGD"
   ]
  },
  {
   "cell_type": "markdown",
   "metadata": {},
   "source": [
    "You are required to compare the following algorithms:\n",
    "\n",
    "- Gradient descent (GD)\n",
    "\n",
    "- SGD\n",
    "\n",
    "- MB-SGD with b=8\n",
    "\n",
    "- MB-SGD with b=64\n",
    "\n",
    "Follow the code in Section 4 to plot ```objective function value``` against ```epochs```. There should be four curves in the plot; each curve corresponds to one algorithm."
   ]
  },
  {
   "cell_type": "markdown",
   "metadata": {},
   "source": [
    "Hint: Logistic regression with $\\ell_2$-norm regularization is a strongly convex optimization problem. All the algorithms will converge to the same solution. **In the end, the ``objective function value`` of the 4 algorithms will be the same. If not the same, your implementation must be wrong. Do NOT submit wrong code and wrong result!**"
   ]
  },
  {
   "cell_type": "code",
   "execution_count": 63,
   "metadata": {},
   "outputs": [
    {
     "name": "stderr",
     "output_type": "stream",
     "text": [
      "C:\\Users\\Charley\\AppData\\Local\\Temp/ipykernel_14068/2531627194.py:9: MatplotlibDeprecationWarning: Case-insensitive properties were deprecated in 3.3 and support will be removed two minor releases later\n",
      "  line0, = plt.plot(epochs_gd, objvals_gd, '--b', LineWidth=4)\n",
      "C:\\Users\\Charley\\AppData\\Local\\Temp/ipykernel_14068/2531627194.py:10: MatplotlibDeprecationWarning: Case-insensitive properties were deprecated in 3.3 and support will be removed two minor releases later\n",
      "  line1, = plt.plot(epochs_sgd, objvals_sgd, '-r', LineWidth=2)\n",
      "C:\\Users\\Charley\\AppData\\Local\\Temp/ipykernel_14068/2531627194.py:11: MatplotlibDeprecationWarning: Case-insensitive properties were deprecated in 3.3 and support will be removed two minor releases later\n",
      "  line2, = plt.plot(epochs_mbsgd8, objvals_mbsgd8, '-y', LineWidth=2)\n",
      "C:\\Users\\Charley\\AppData\\Local\\Temp/ipykernel_14068/2531627194.py:12: MatplotlibDeprecationWarning: Case-insensitive properties were deprecated in 3.3 and support will be removed two minor releases later\n",
      "  line3, = plt.plot(epochs_mbsgd64, objvals_mbsgd64, '-g', LineWidth=2)\n",
      "C:\\Users\\Charley\\AppData\\Local\\Temp/ipykernel_14068/2531627194.py:14: MatplotlibDeprecationWarning: Case-insensitive properties were deprecated in 3.3 and support will be removed two minor releases later\n",
      "  plt.xlabel('Epochs', FontSize=20)\n",
      "C:\\Users\\Charley\\AppData\\Local\\Temp/ipykernel_14068/2531627194.py:15: MatplotlibDeprecationWarning: Case-insensitive properties were deprecated in 3.3 and support will be removed two minor releases later\n",
      "  plt.ylabel('Objective Value', FontSize=20)\n",
      "C:\\Users\\Charley\\AppData\\Local\\Temp/ipykernel_14068/2531627194.py:16: MatplotlibDeprecationWarning: Case-insensitive properties were deprecated in 3.3 and support will be removed two minor releases later\n",
      "  plt.xticks(FontSize=16)\n",
      "C:\\Users\\Charley\\AppData\\Local\\Temp/ipykernel_14068/2531627194.py:17: MatplotlibDeprecationWarning: Case-insensitive properties were deprecated in 3.3 and support will be removed two minor releases later\n",
      "  plt.yticks(FontSize=16)\n"
     ]
    },
    {
     "data": {
      "image/png": "[encoded data removed]",
      "text/plain": [
       "<Figure size 432x288 with 1 Axes>"
      ]
     },
     "metadata": {
      "needs_background": "light"
     },
     "output_type": "display_data"
    }
   ],
   "source": [
    "# plot the 4 curves:\n",
    "fig = plt.figure(figsize=(6, 4))\n",
    "\n",
    "epochs_gd = range(len(objvals_gd))\n",
    "epochs_sgd = range(len(objvals_sgd))\n",
    "epochs_mbsgd8 = range(len(objvals_mbsgd8))\n",
    "epochs_mbsgd64 = range(len(objvals_mbsgd64))\n",
    "\n",
    "line0, = plt.plot(epochs_gd, objvals_gd, '--b', LineWidth=4)\n",
    "line1, = plt.plot(epochs_sgd, objvals_sgd, '-r', LineWidth=2)\n",
    "line2, = plt.plot(epochs_mbsgd8, objvals_mbsgd8, '-y', LineWidth=2)\n",
    "line3, = plt.plot(epochs_mbsgd64, objvals_mbsgd64, '-g', LineWidth=2)\n",
    "\n",
    "plt.xlabel('Epochs', FontSize=20)\n",
    "plt.ylabel('Objective Value', FontSize=20)\n",
    "plt.xticks(FontSize=16)\n",
    "plt.yticks(FontSize=16)\n",
    "plt.legend([line0, line1, line2, line3], ['GD', 'SGD', 'MB_SGD8', 'MB_SGD64'], fontsize=20)\n",
    "plt.tight_layout()\n",
    "plt.show()\n",
    "fig.savefig('compare_gd_sgd.pdf', format='pdf', dpi=1200)"
   ]
  },
  {
   "cell_type": "markdown",
   "metadata": {},
   "source": []
  }
 ],
 "metadata": {
  "kernelspec": {
   "display_name": "Python 3 (ipykernel)",
   "language": "python",
   "name": "python3"
  },
  "language_info": {
   "codemirror_mode": {
    "name": "ipython",
    "version": 3
   },
   "file_extension": ".py",
   "mimetype": "text/x-python",
   "name": "python",
   "nbconvert_exporter": "python",
   "pygments_lexer": "ipython3",
   "version": "3.9.7"
  }
 },
 "nbformat": 4,
 "nbformat_minor": 2
}
